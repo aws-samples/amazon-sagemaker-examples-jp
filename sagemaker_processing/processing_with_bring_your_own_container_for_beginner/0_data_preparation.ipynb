{
 "cells": [
  {
   "cell_type": "markdown",
   "metadata": {},
   "source": [
    "# 画像で機械学習するための準備（処理時間1分以内）\n",
    "* Amazon SageMaker はあまり関係ありません    \n",
    "    Amazon SageMaker Python SDK を利用してノートブックインスタンスから S3 にデータをアップロードしているだけ\n",
    "\n",
    "\n",
    "* このノートブックで行うこと\n",
    "    1. yan lecun 様の[サイト](http://yann.lecun.com/exdb/mnist/)より mnist のデータセットをノートブックインスタンスにダウンロード\n",
    "    2. バイナリデータから画像データを１枚ずつ png ファイルに出力\n",
    "    3. バイナリデータからラベルデータを npy ファイルに出力\n",
    "    4. zip ファイルに固めて S3 にアップロード    \n",
    "         zip ファイルに固める理由はバラバラの画像ファイルだと転送速度が遅くなるため、固めて転送して演算するコンピューティングリソースで解凍する"
   ]
  },
  {
   "cell_type": "markdown",
   "metadata": {},
   "source": [
    "![](media/0_data_preparation.png)"
   ]
  },
  {
   "cell_type": "code",
   "execution_count": null,
   "metadata": {},
   "outputs": [],
   "source": [
    "# notebook のセルの横方向の表示範囲を広げる\n",
    "from IPython.core.display import display, HTML \n",
    "display(HTML(\"<style>.container { width:100% !important; }</style>\")) "
   ]
  },
  {
   "cell_type": "code",
   "execution_count": null,
   "metadata": {},
   "outputs": [],
   "source": [
    "import sagemaker\n",
    "print(f'Current sagemaker Version ={sagemaker.__version__}')"
   ]
  },
  {
   "cell_type": "markdown",
   "metadata": {},
   "source": [
    "上記セルを実行して、SageMaker Python SDK Version が 1.xx.x の場合、以下のセルのコメントアウトを解除してから実行してください。実行が完了したら、上にあるメニューから [Kernel] -> [Restart] を選択してカーネルを再起動してください。\n",
    "\n",
    "再起動が完了したら、このノートブックの一番上のセルから再度実行してください。その場合、以下のセルを実行する必要はありません。"
   ]
  },
  {
   "cell_type": "code",
   "execution_count": null,
   "metadata": {},
   "outputs": [],
   "source": [
    "# pip install -U --quiet \"sagemaker==2.20.0\""
   ]
  },
  {
   "cell_type": "markdown",
   "metadata": {},
   "source": [
    "## 各種設定"
   ]
  },
  {
   "cell_type": "code",
   "execution_count": null,
   "metadata": {},
   "outputs": [],
   "source": [
    "import urllib.request, gzip, numpy as np, sagemaker, datetime, yaml, os, shutil\n",
    "from matplotlib import pyplot as plt\n",
    "from PIL import Image\n",
    "from tqdm import tqdm\n",
    "\n",
    "url_base = 'http://yann.lecun.com/exdb/mnist/'\n",
    "key_file = {\n",
    "    'train_img':'train-images-idx3-ubyte.gz',\n",
    "    'train_label':'train-labels-idx1-ubyte.gz',\n",
    "    'test_img':'t10k-images-idx3-ubyte.gz',\n",
    "    'test_label':'t10k-labels-idx1-ubyte.gz'\n",
    "}\n",
    "# 様々な識別子を一意にするためにタイムスタンプを利用する\n",
    "timestamp = datetime.datetime.now(datetime.timezone(datetime.timedelta(hours=9))).strftime('%Y%m%d%H%M%S')\n",
    "print(f'timestamp: {timestamp}')"
   ]
  },
  {
   "cell_type": "markdown",
   "metadata": {},
   "source": [
    "## データをノートブックインスタンスにダウンロード"
   ]
  },
  {
   "cell_type": "code",
   "execution_count": null,
   "metadata": {},
   "outputs": [],
   "source": [
    "%%time\n",
    "\n",
    "dataset_dir = './mnist/'    #画像ファイルとラベルを保存するディレクトリ\n",
    "\n",
    "os.makedirs(dataset_dir, exist_ok=True)\n",
    "\n",
    "for v in key_file.values():\n",
    "    file_path = dataset_dir + '/' + v\n",
    "    # データのダウンロード\n",
    "    urllib.request.urlretrieve(url_base + v, file_path)"
   ]
  },
  {
   "cell_type": "code",
   "execution_count": null,
   "metadata": {},
   "outputs": [],
   "source": [
    "!ls  {dataset_dir}"
   ]
  },
  {
   "cell_type": "markdown",
   "metadata": {},
   "source": [
    "## mnistのバイナリデータを numpy 配列にする\n",
    "ついでにラベルデータを事前に one-hot encoding しておく"
   ]
  },
  {
   "cell_type": "code",
   "execution_count": null,
   "metadata": {},
   "outputs": [],
   "source": [
    "%%time\n",
    "\n",
    "file_path = dataset_dir + key_file['train_img']\n",
    "with gzip.open(file_path, 'rb') as f:\n",
    "    train_x = np.frombuffer(f.read(), np.uint8, offset=16).reshape(-1,28,28)\n",
    "file_path = dataset_dir + key_file['train_label']\n",
    "with gzip.open(file_path, 'rb') as f:\n",
    "    train_y = np.frombuffer(f.read(), np.uint8, offset=8)\n",
    "train_y = np.identity(10)[train_y]\n",
    "\n",
    "\n",
    "file_path = dataset_dir + key_file['test_img']\n",
    "with gzip.open(file_path, 'rb') as f:\n",
    "    test_x = np.frombuffer(f.read(), np.uint8, offset=16).reshape(-1,28,28)\n",
    "file_path = dataset_dir + key_file['test_label']\n",
    "with gzip.open(file_path, 'rb') as f:\n",
    "    test_y = np.frombuffer(f.read(), np.uint8, offset=8)\n",
    "test_y = np.identity(10)[test_y]"
   ]
  },
  {
   "cell_type": "markdown",
   "metadata": {},
   "source": [
    "## numpy array を 1 枚ずつ png ファイルに出力する\n",
    "* [前処理](1_preprocess_kick.ipynb)で hist 平坦化したのち、再度 npy ファイルに変換するため"
   ]
  },
  {
   "cell_type": "code",
   "execution_count": null,
   "metadata": {},
   "outputs": [],
   "source": [
    "%%time\n",
    "\n",
    "# ローカルへ保存\n",
    "base_dir = './dataset/'\n",
    "train_x_dir = base_dir + 'train_x/'\n",
    "test_x_dir = base_dir + 'test_x/'\n",
    "\n",
    "os.makedirs(train_x_dir, exist_ok=True)\n",
    "os.makedirs(test_x_dir, exist_ok=True)\n",
    "\n",
    "for i in tqdm(range(train_x.shape[0])):\n",
    "    Image.fromarray(train_x[i,:,:]).save(train_x_dir + str(i).zfill(5) + \".png\")\n",
    "\n",
    "for i in tqdm(range(test_x.shape[0])):\n",
    "    Image.fromarray(test_x[i,:,:]).save(test_x_dir + str(i).zfill(5) + \".png\")\n",
    "\n",
    "np.save(base_dir + 'train_y.npy',train_y)\n",
    "np.save(base_dir + 'test_y.npy',test_y)"
   ]
  },
  {
   "cell_type": "code",
   "execution_count": null,
   "metadata": {},
   "outputs": [],
   "source": [
    "!ls -l {base_dir}"
   ]
  },
  {
   "cell_type": "code",
   "execution_count": null,
   "metadata": {},
   "outputs": [],
   "source": [
    "!ls -l {base_dir}train_x | tail -n5"
   ]
  },
  {
   "cell_type": "code",
   "execution_count": null,
   "metadata": {},
   "outputs": [],
   "source": [
    "!ls -l {base_dir}test_x | tail -n5"
   ]
  },
  {
   "cell_type": "markdown",
   "metadata": {},
   "source": [
    "## zip ファイルに固める\n",
    "* 前処理をする際に zip ファイルに固めたほうが S3 から前処理を行うコンテナへの転送効率が高い（細切れのファイルだと転送に時間がかかる）\n",
    "* 解凍処理も前処理に含める"
   ]
  },
  {
   "cell_type": "code",
   "execution_count": null,
   "metadata": {},
   "outputs": [],
   "source": [
    "zip_file = shutil.make_archive('./dataset', 'zip', root_dir='./dataset/')\n",
    "print(zip_file)"
   ]
  },
  {
   "cell_type": "markdown",
   "metadata": {},
   "source": [
    "## S3 にアップロードする際、一意の URI を指定したいため、設定ファイルの名前を取得"
   ]
  },
  {
   "cell_type": "code",
   "execution_count": null,
   "metadata": {},
   "outputs": [],
   "source": [
    "with open('./config.yaml', 'r') as yml:\n",
    "    config = yaml.load(yml)\n",
    "name = config['name']\n",
    "print(f'name: {name}')"
   ]
  },
  {
   "cell_type": "markdown",
   "metadata": {},
   "source": [
    "## SageMaker SDK を利用して 作成した dataset.zip を S3 にアップロード\n",
    "* 通常 S3 にアップロードをする際は [boto3](https://boto3.amazonaws.com/v1/documentation/api/latest/reference/services/s3.html#client) や [aws cli](https://aws.amazon.com/jp/cli/) を利用する\n",
    "* SageMaker SDK はデータサイエンティストのための SDK で boto3 や aws cli などの学習コストを増やさないよう, SageMaker で完結させられる = S3 にアップロードできる機能も持っている\n",
    "* upload_data メソッドを利用することで SageMaker のデフォルトバケット(sagemaker-{region}-{account} に 1 行のコードでアップロードできる"
   ]
  },
  {
   "cell_type": "code",
   "execution_count": null,
   "metadata": {},
   "outputs": [],
   "source": [
    "# S3 に dataset.zip をアップロード\n",
    "prefix = f'sagemaker-handson-{name}/dataset-{timestamp}'\n",
    "zip_dataset_s3_uri = sagemaker.session.Session().upload_data(path=zip_file, key_prefix=prefix)"
   ]
  },
  {
   "cell_type": "code",
   "execution_count": null,
   "metadata": {},
   "outputs": [],
   "source": [
    "# アップロード先などを次のノートブックに引き継ぐため yaml に出力\n",
    "with open(\"./setting.yaml\", mode='w') as f:\n",
    "    f.write('name: ' + config['name'] +'\\n')\n",
    "    f.write('zip_dataset_s3_uri: ' + zip_dataset_s3_uri + '\\n')\n",
    "    f.write('timestamp: ' + timestamp + '\\n')\n",
    "\n",
    "with open('./setting.yaml', 'r') as yml:\n",
    "    config = yaml.load(yml)\n",
    "print(config)"
   ]
  },
  {
   "cell_type": "code",
   "execution_count": null,
   "metadata": {},
   "outputs": [],
   "source": []
  }
 ],
 "metadata": {
  "instance_type": "ml.t3.medium",
  "kernelspec": {
   "display_name": "conda_python3",
   "language": "python",
   "name": "conda_python3"
  },
  "language_info": {
   "codemirror_mode": {
    "name": "ipython",
    "version": 3
   },
   "file_extension": ".py",
   "mimetype": "text/x-python",
   "name": "python",
   "nbconvert_exporter": "python",
   "pygments_lexer": "ipython3",
   "version": "3.6.10"
  }
 },
 "nbformat": 4,
 "nbformat_minor": 4
}
